{
 "cells": [
  {
   "cell_type": "code",
   "execution_count": 11,
   "metadata": {
    "colab": {},
    "colab_type": "code",
    "id": "wYtuKeK0dImp"
   },
   "outputs": [],
   "source": [
    "# ATTENTION: Please do not alter any of the provided code in the exercise. Only add your own code where indicated\n",
    "# ATTENTION: Please do not add or remove any cells in the exercise. The grader will check specific cells based on the cell position.\n",
    "# ATTENTION: Please use the provided epoch values when training.\n",
    "\n",
    "import csv\n",
    "import numpy as np\n",
    "import tensorflow as tf\n",
    "from tensorflow.keras.preprocessing.image import ImageDataGenerator\n",
    "from os import getcwd"
   ]
  },
  {
   "cell_type": "code",
   "execution_count": 12,
   "metadata": {
    "colab": {},
    "colab_type": "code",
    "id": "4kxw-_rmcnVu"
   },
   "outputs": [
    {
     "name": "stdout",
     "output_type": "stream",
     "text": [
      "(27455, 28, 28)\n",
      "(27455,)\n",
      "(7172, 28, 28)\n",
      "(7172,)\n"
     ]
    }
   ],
   "source": [
    "def get_data(filename):\n",
    "  # You will need to write code that will read the file passed\n",
    "  # into this function. The first line contains the column headers\n",
    "  # so you should ignore it\n",
    "  # Each successive line contians 785 comma separated values between 0 and 255\n",
    "  # The first value is the label\n",
    "  # The rest are the pixel values for that picture\n",
    "  # The function will return 2 np.array types. One with all the labels\n",
    "  # One with all the images\n",
    "  #\n",
    "  # Tips: \n",
    "  # If you read a full line (as 'row') then row[0] has the label\n",
    "  # and row[1:785] has the 784 pixel values\n",
    "  # Take a look at np.array_split to turn the 784 pixels into 28x28\n",
    "  # You are reading in strings, but need the values to be floats\n",
    "  # Check out np.array().astype for a conversion\n",
    "    with open(filename) as training_file:\n",
    "      # Your code starts here\n",
    "        reader = csv.reader(training_file, delimiter=',')    \n",
    "        imgs = []\n",
    "        labels = []\n",
    "\n",
    "        next(reader, None)\n",
    "        \n",
    "        for row in reader:\n",
    "            label = row[0]\n",
    "            data = row[1:]\n",
    "            img = np.array(data).reshape((28, 28))\n",
    "\n",
    "            imgs.append(img)\n",
    "            labels.append(label)\n",
    "\n",
    "        images = np.array(imgs).astype(float)\n",
    "        labels = np.array(labels).astype(float)\n",
    "      # Your code ends here\n",
    "    return images, labels\n",
    "\n",
    "path_sign_mnist_train = f\"{getcwd()}/../tmp2/sign_mnist_train.csv\"\n",
    "path_sign_mnist_test = f\"{getcwd()}/../tmp2/sign_mnist_test.csv\"\n",
    "training_images, training_labels = get_data(path_sign_mnist_train)\n",
    "testing_images, testing_labels = get_data(path_sign_mnist_test)\n",
    "\n",
    "# Keep these\n",
    "print(training_images.shape)\n",
    "print(training_labels.shape)\n",
    "print(testing_images.shape)\n",
    "print(testing_labels.shape)\n",
    "\n",
    "# Their output should be:\n",
    "# (27455, 28, 28)\n",
    "# (27455,)\n",
    "# (7172, 28, 28)\n",
    "# (7172,)"
   ]
  },
  {
   "cell_type": "code",
   "execution_count": 13,
   "metadata": {
    "colab": {},
    "colab_type": "code",
    "id": "awoqRpyZdQkD"
   },
   "outputs": [
    {
     "name": "stdout",
     "output_type": "stream",
     "text": [
      "(27455, 28, 28, 1)\n",
      "(7172, 28, 28, 1)\n"
     ]
    }
   ],
   "source": [
    "# In this section you will have to add another dimension to the data\n",
    "# So, for example, if your array is (10000, 28, 28)\n",
    "# You will need to make it (10000, 28, 28, 1)\n",
    "# Hint: np.expand_dims\n",
    "\n",
    "training_images = np.expand_dims(training_images, axis=3)\n",
    "testing_images = np.expand_dims(testing_images, axis=3)\n",
    "\n",
    "# Create an ImageDataGenerator and do Image Augmentation\n",
    "train_datagen = ImageDataGenerator(\n",
    "    rescale=1./255,\n",
    "    rotation_range=40,\n",
    "    width_shift_range=.2,\n",
    "    height_shift_range=.2,\n",
    "    shear_range=.2,\n",
    "    zoom_range=.2,\n",
    "    horizontal_flip=True,\n",
    "    fill_mode='nearest'\n",
    ")\n",
    "\n",
    "validation_datagen = ImageDataGenerator(\n",
    "    rescale=1./255\n",
    ")\n",
    "    \n",
    "train_generator = train_datagen.flow(\n",
    "    training_images,\n",
    "    training_labels,\n",
    "    batch_size=20\n",
    ")\n",
    "\n",
    "validation_generator = validation_datagen.flow(\n",
    "    testing_images,\n",
    "    testing_labels,\n",
    "    batch_size=20\n",
    ")\n",
    "# Keep These\n",
    "print(training_images.shape)\n",
    "print(testing_images.shape)\n",
    "    \n",
    "# Their output should be:\n",
    "# (27455, 28, 28, 1)\n",
    "# (7172, 28, 28, 1)"
   ]
  },
  {
   "cell_type": "code",
   "execution_count": 14,
   "metadata": {
    "colab": {},
    "colab_type": "code",
    "id": "Rmb7S32cgRqS"
   },
   "outputs": [
    {
     "name": "stdout",
     "output_type": "stream",
     "text": [
      "Epoch 1/20\n",
      "1373/1373 [==============================] - 70s 51ms/step - loss: 2.6053 - acc: 0.1988 - val_loss: 1.6654 - val_acc: 0.4307\n",
      "Epoch 2/20\n",
      "1373/1373 [==============================] - 69s 50ms/step - loss: 1.8709 - acc: 0.4021 - val_loss: 1.3276 - val_acc: 0.5399\n",
      "Epoch 3/20\n",
      "1373/1373 [==============================] - 68s 49ms/step - loss: 1.5223 - acc: 0.5003 - val_loss: 1.0054 - val_acc: 0.6146\n",
      "Epoch 4/20\n",
      "1373/1373 [==============================] - 69s 50ms/step - loss: 1.2942 - acc: 0.5742 - val_loss: 0.8786 - val_acc: 0.6755\n",
      "Epoch 5/20\n",
      "1373/1373 [==============================] - 67s 49ms/step - loss: 1.1343 - acc: 0.6272 - val_loss: 0.7080 - val_acc: 0.7338\n",
      "Epoch 6/20\n",
      "1373/1373 [==============================] - 66s 48ms/step - loss: 1.0062 - acc: 0.6663 - val_loss: 0.6667 - val_acc: 0.7524\n",
      "Epoch 7/20\n",
      "1373/1373 [==============================] - 67s 49ms/step - loss: 0.9130 - acc: 0.6957 - val_loss: 0.5585 - val_acc: 0.8024\n",
      "Epoch 8/20\n",
      "1373/1373 [==============================] - 68s 50ms/step - loss: 0.8241 - acc: 0.7261 - val_loss: 0.5516 - val_acc: 0.7790\n",
      "Epoch 9/20\n",
      "1373/1373 [==============================] - 70s 51ms/step - loss: 0.7520 - acc: 0.7467 - val_loss: 0.4378 - val_acc: 0.8434\n",
      "Epoch 10/20\n",
      "1373/1373 [==============================] - 70s 51ms/step - loss: 0.7028 - acc: 0.7654 - val_loss: 0.3848 - val_acc: 0.8664\n",
      "Epoch 11/20\n",
      "1373/1373 [==============================] - 68s 49ms/step - loss: 0.6599 - acc: 0.7791 - val_loss: 0.4276 - val_acc: 0.8436\n",
      "Epoch 12/20\n",
      "1373/1373 [==============================] - 70s 51ms/step - loss: 0.6272 - acc: 0.7910 - val_loss: 0.2541 - val_acc: 0.9230\n",
      "Epoch 13/20\n",
      "1373/1373 [==============================] - 94s 68ms/step - loss: 0.5883 - acc: 0.8035 - val_loss: 0.3768 - val_acc: 0.8688\n",
      "Epoch 14/20\n",
      "1373/1373 [==============================] - 96s 70ms/step - loss: 0.5568 - acc: 0.8143 - val_loss: 0.2555 - val_acc: 0.9204\n",
      "Epoch 15/20\n",
      "1373/1373 [==============================] - 95s 69ms/step - loss: 0.5282 - acc: 0.8244 - val_loss: 0.3201 - val_acc: 0.8832\n",
      "Epoch 16/20\n",
      "1373/1373 [==============================] - 99s 72ms/step - loss: 0.5074 - acc: 0.8296 - val_loss: 0.2301 - val_acc: 0.9095\n",
      "Epoch 17/20\n",
      "1373/1373 [==============================] - 100s 73ms/step - loss: 0.4886 - acc: 0.8359 - val_loss: 0.2785 - val_acc: 0.8995\n",
      "Epoch 18/20\n",
      "1373/1373 [==============================] - 102s 74ms/step - loss: 0.4699 - acc: 0.8432 - val_loss: 0.1810 - val_acc: 0.9306\n",
      "Epoch 19/20\n",
      "1373/1373 [==============================] - 164s 119ms/step - loss: 0.4601 - acc: 0.8447 - val_loss: 0.2188 - val_acc: 0.9154\n",
      "Epoch 20/20\n",
      "1373/1373 [==============================] - 171s 125ms/step - loss: 0.4397 - acc: 0.8549 - val_loss: 0.3665 - val_acc: 0.8643\n"
     ]
    },
    {
     "data": {
      "text/plain": [
       "[316.5089845247795, 0.611266]"
      ]
     },
     "execution_count": 14,
     "metadata": {},
     "output_type": "execute_result"
    }
   ],
   "source": [
    "# Define the model\n",
    "# Use no more than 2 Conv2D and 2 MaxPooling2D\n",
    "model = tf.keras.models.Sequential([\n",
    "    tf.keras.layers.Conv2D(32, (3, 3), activation='relu', input_shape=(28, 28, 1)),\n",
    "    tf.keras.layers.MaxPooling2D(2, 2),\n",
    "    tf.keras.layers.Conv2D(32, (3, 3), activation='relu'),\n",
    "    tf.keras.layers.MaxPooling2D(2, 2),\n",
    "    tf.keras.layers.Flatten(),\n",
    "    tf.keras.layers.Dense(512, activation='relu'),\n",
    "    tf.keras.layers.Dense(26, activation='softmax')\n",
    "])\n",
    "\n",
    "# Compile Model. \n",
    "model.compile(\n",
    "    optimizer='adam',\n",
    "    loss='sparse_categorical_crossentropy',\n",
    "    metrics=['acc']\n",
    ")\n",
    "\n",
    "# Train the Model\n",
    "history = model.fit_generator(\n",
    "    train_generator,\n",
    "    epochs=10,\n",
    "    validation_data=validation_generator\n",
    ")\n",
    "\n",
    "model.evaluate(testing_images, testing_labels, verbose=0)"
   ]
  },
  {
   "cell_type": "code",
   "execution_count": 16,
   "metadata": {
    "colab": {},
    "colab_type": "code",
    "id": "_Q3Zpr46dsij"
   },
   "outputs": [
    {
     "data": {
      "image/png": "[encoded data removed]",
      "text/plain": [
       "<Figure size 432x288 with 1 Axes>"
      ]
     },
     "metadata": {
      "needs_background": "light"
     },
     "output_type": "display_data"
    },
    {
     "data": {
      "image/png": "[encoded data removed]",
      "text/plain": [
       "<Figure size 432x288 with 1 Axes>"
      ]
     },
     "metadata": {
      "needs_background": "light"
     },
     "output_type": "display_data"
    }
   ],
   "source": [
    "# Plot the chart for accuracy and loss on both training and validation\n",
    "%matplotlib inline\n",
    "import matplotlib.pyplot as plt\n",
    "acc = history.history['acc']\n",
    "val_acc = history.history['val_acc']\n",
    "loss = history.history['loss']\n",
    "val_loss = history.history['val_loss']\n",
    "\n",
    "epochs = range(len(acc))\n",
    "\n",
    "plt.plot(epochs, acc, 'r', label='Training accuracy')\n",
    "plt.plot(epochs, val_acc, 'b', label='Validation accuracy')\n",
    "plt.title('Training and validation accuracy')\n",
    "plt.legend()\n",
    "plt.figure()\n",
    "\n",
    "plt.plot(epochs, loss, 'r', label='Training Loss')\n",
    "plt.plot(epochs, val_loss, 'b', label='Validation Loss')\n",
    "plt.title('Training and validation loss')\n",
    "plt.legend()\n",
    "\n",
    "plt.show()"
   ]
  },
  {
   "cell_type": "markdown",
   "metadata": {},
   "source": [
    "# Submission Instructions"
   ]
  },
  {
   "cell_type": "code",
   "execution_count": null,
   "metadata": {},
   "outputs": [],
   "source": [
    "# Now click the 'Submit Assignment' button above."
   ]
  },
  {
   "cell_type": "markdown",
   "metadata": {},
   "source": [
    "# When you're done or would like to take a break, please run the two cells below to save your work and close the Notebook. This will free up resources for your fellow learners. "
   ]
  },
  {
   "cell_type": "code",
   "execution_count": null,
   "metadata": {},
   "outputs": [],
   "source": [
    "%%javascript\n",
    "<!-- Save the notebook -->\n",
    "IPython.notebook.save_checkpoint();"
   ]
  },
  {
   "cell_type": "code",
   "execution_count": null,
   "metadata": {},
   "outputs": [],
   "source": [
    "%%javascript\n",
    "IPython.notebook.session.delete();\n",
    "window.onbeforeunload = null\n",
    "setTimeout(function() { window.close(); }, 1000);"
   ]
  }
 ],
 "metadata": {
  "colab": {
   "name": "Exercise 8 - Question.ipynb",
   "provenance": []
  },
  "coursera": {
   "course_slug": "convolutional-neural-networks-tensorflow",
   "graded_item_id": "8mIh8",
   "launcher_item_id": "gg95t"
  },
  "kernelspec": {
   "display_name": "Python 3",
   "language": "python",
   "name": "python3"
  },
  "language_info": {
   "codemirror_mode": {
    "name": "ipython",
    "version": 3
   },
   "file_extension": ".py",
   "mimetype": "text/x-python",
   "name": "python",
   "nbconvert_exporter": "python",
   "pygments_lexer": "ipython3",
   "version": "3.6.8"
  }
 },
 "nbformat": 4,
 "nbformat_minor": 1
}
